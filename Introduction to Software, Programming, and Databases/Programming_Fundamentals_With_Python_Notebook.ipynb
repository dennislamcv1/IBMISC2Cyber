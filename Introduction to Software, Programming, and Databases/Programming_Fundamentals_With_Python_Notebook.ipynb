{
 "cells": [
  {
   "cell_type": "markdown",
   "metadata": {},
   "source": [
    "<p style=\"text-align:center\">\n",
    "    <a href=\"https://skills.network/?utm_medium=Exinfluencer&utm_source=Exinfluencer&utm_content=000026UJ&utm_term=10006555&utm_id=NA-SkillsNetwork-Channel-SkillsNetworkCoursesIBMCS0151ENSkillsNetwork30754147-2022-01-01\" target=\"_blank\">\n",
    "    <img src=\"https://cf-courses-data.s3.us.cloud-object-storage.appdomain.cloud/assets/logos/SN_web_lightmode.png\" width=\"200\" alt=\"Skills Network Logo\"  />\n",
    "    </a>\n",
    "</p>\n"
   ]
  },
  {
   "cell_type": "markdown",
   "metadata": {},
   "source": [
    "# **Programming Fundamentals with Python**\n"
   ]
  },
  {
   "cell_type": "markdown",
   "metadata": {},
   "source": [
    "**Estimated time needed**: 25 minutes\n"
   ]
  },
  {
   "cell_type": "markdown",
   "metadata": {},
   "source": [
    "In this lab, you will write Python code to perform a series of five exercises:\n",
    "\n",
    "*   [Exercise 1: Print a String](#Exercise1)\n",
    "*   [Exercise 2: Declare, Set a Value, and Print Variables](#Exercise2)\n",
    "*   [Exercise 3: Perform Simple Arithmetic Operations](#Exercise3)\n",
    "*   [Exercise 4: Declare and Print an Array Using a For-Loop](#Exercise4)\n",
    "*   [Exercise 5: Execute Conditional Statements](#Exercise5)\n"
   ]
  },
  {
   "cell_type": "markdown",
   "metadata": {},
   "source": [
    "## Objectives\n"
   ]
  },
  {
   "cell_type": "markdown",
   "metadata": {},
   "source": [
    "After completing this lab you will be able to:\n",
    "\n",
    "*   Recognize programming concepts such as variables, constants, identifiers, functions, and arrays\n",
    "*   Demonstrate the use of variables in a program by executing a block of code\n",
    "*   Execute programming logic using if-then statements, for-loops\n"
   ]
  },
  {
   "cell_type": "markdown",
   "metadata": {},
   "source": [
    "***\n"
   ]
  },
  {
   "cell_type": "markdown",
   "metadata": {},
   "source": [
    "## Exercise 1: Print a String<a id=\"Exercise1\"></a>\n"
   ]
  },
  {
   "cell_type": "markdown",
   "metadata": {},
   "source": [
    "A string is a sequence of characters.  In Python, strings are enclosed inside single quotes, double quotes, or triple quotes.\n",
    "\n",
    "In this exercise, you will practice using the built-in **`print()`** function in Python.\n",
    "\n",
    "## Task A: Review the source code\n",
    "\n",
    "The source code below prints the string Hello, world! on the screen.\n",
    "\n",
    "#### Source Code #1\n",
    "\n",
    "```Python\n",
    "#This code prints the statement in parentheses\n",
    "print('Hello, world!')\n",
    "```\n",
    "\n",
    "*   ***Note:*** *Comments in Python begin with the # character. Comments are used for clarifying code and are ignored by the interpreter.*\n",
    "\n",
    "#### Output\n",
    "\n",
    "```\n",
    "Hello, world!\n",
    "```\n",
    "\n",
    "## Task B: Write the code\n",
    "\n",
    "Step 1: Place your cursor in the cell below. <br>Step 2: Using source code #1 as an example, write the line of Python code to **print** the string ‘This is my first program’. <br>Step 3: Select the Run button in the toolbar to run your code and view the output.  Ensure your cursor is placed in the cell containing the code you intend to run.\n",
    "\n",
    "<img src=\"https://cf-courses-data.s3.us.cloud-object-storage.appdomain.cloud/IBM-CS0151EN-SkillsNetwork/labs/Module_3/Lab_Programming_Fundamentals_with_Python/images/Run.png\"/>\n"
   ]
  },
  {
   "cell_type": "code",
   "execution_count": 1,
   "metadata": {},
   "outputs": [
    {
     "name": "stdout",
     "output_type": "stream",
     "text": [
      "This is my first program\n"
     ]
    }
   ],
   "source": [
    "# Write your code for Exercise 1 in this cell\n",
    "print('This is my first program')"
   ]
  },
  {
   "cell_type": "markdown",
   "metadata": {},
   "source": [
    "<details>\n",
    "<summary>Click here for Hint</summary>\n",
    "\n",
    "> Use the **`print()`** function as in the sample code. Use single or double quotes at the beginning and end of the string in the print statement.\n",
    "\n",
    "</details>\n",
    "\n",
    "<br>\n",
    "\n",
    "<details>\n",
    "<summary>Click here for Solution</summary>\n",
    "\n",
    ">\n",
    "\n",
    "```Python\n",
    "print('This is my first program')\n",
    "```\n",
    "\n",
    "</details>\n"
   ]
  },
  {
   "cell_type": "markdown",
   "metadata": {},
   "source": [
    "***\n"
   ]
  },
  {
   "cell_type": "markdown",
   "metadata": {},
   "source": [
    "## Exercise 2: Declare, Set a Value, and Print Variables<a id=\"Exercise2\"></a>\n"
   ]
  },
  {
   "cell_type": "markdown",
   "metadata": {},
   "source": [
    "In this exercise, you will practice how to declare a variable, set a value to it, and then print it.\n",
    "\n",
    "## Task A: Review the source code\n",
    "\n",
    "The first line of the source code below declares variable **`a`** and assigns the value **7**. <br>The second line declares variable **`b`** and assigns the value **5.5**. <br>The third and fourth lines use the **`print()`** function in Python to display the value of variables **a** and **b** as the output.\n",
    "\n",
    "#### Source Code #2\n",
    "\n",
    "```Python\n",
    "a=7\n",
    "b=5.5\n",
    "print(a)\n",
    "print(b)\n",
    "```\n",
    "\n",
    "#### Output\n",
    "\n",
    "```\n",
    "7\n",
    "5.5\n",
    "```\n",
    "\n",
    "## Task B: Write the code\n",
    "\n",
    "Step 1: Using source code #2 as an example, write the first line of code to declare a variable called **myint** and assign the integer value **200**. <br>Step 2: Next, write the second line of code to print the variable. <br>Step 3: Run your code to view the output.\n"
   ]
  },
  {
   "cell_type": "code",
   "execution_count": 2,
   "metadata": {},
   "outputs": [
    {
     "name": "stdout",
     "output_type": "stream",
     "text": [
      "200\n"
     ]
    }
   ],
   "source": [
    "# Write your code for Exercise 2 in this cell\n",
    "myint = 200\n",
    "print(myint)"
   ]
  },
  {
   "cell_type": "markdown",
   "metadata": {},
   "source": [
    "<details>\n",
    "<summary>Click here for Hint</summary>\n",
    "\n",
    "> Instead of two variables **a** and **b**, you will be use one variable **myint**.\n",
    "\n",
    "</details>\n",
    "\n",
    "<br>\n",
    "\n",
    "<details>\n",
    "<summary>Click here for Solution</summary>\n",
    "\n",
    ">\n",
    "\n",
    "```Python\n",
    "myint=200\n",
    "print(myint)\n",
    "```\n",
    "\n",
    "</details>\n"
   ]
  },
  {
   "cell_type": "markdown",
   "metadata": {},
   "source": [
    "***\n"
   ]
  },
  {
   "cell_type": "markdown",
   "metadata": {},
   "source": [
    "## Exercise 3: Perform Simple Arithmetic Operations <a id=\"Exercise3\"></a>\n"
   ]
  },
  {
   "cell_type": "markdown",
   "metadata": {},
   "source": [
    "In this exercise, you will practice how to perform simple arithmetic operations on variables and print the output.\n",
    "\n",
    "## Task A: Review the source code\n",
    "\n",
    "The first line of the source code below declares the variable **`a`** and assigns the value **25**. <br>The second line declares the variable **`b`** and assigns the value **100**. <br>The third line assigns the sum of the values for variables **`a`** and **`b`** to variable **`c`**. <br>The fourth line uses the **`print()`** function in Python to display the value of variable **c** as the output.\n",
    "\n",
    "#### Source Code #3\n",
    "\n",
    "```Python\n",
    "# a,b and c are variables and addition operation is tested in this program \n",
    "a=25 \n",
    "b=100 \n",
    "c=a+b\n",
    "print (c) \n",
    "```\n",
    "\n",
    "#### Output\n",
    "\n",
    "```\n",
    "125\n",
    "```\n",
    "\n",
    "## Task B: Write the code\n",
    "\n",
    "Step 1: Using source code #3 as an example, write the first line to declare a variable called **a** and assign the value **20**. <br>Step 2: Write the second line to declare variable **c** and assign the value to multiply variable **a** by **100**. <br>Step 3: Write the third line of code to print variable **c**. <br>Step 4: Lastly, run your code to view the output.\n"
   ]
  },
  {
   "cell_type": "code",
   "execution_count": 3,
   "metadata": {},
   "outputs": [
    {
     "name": "stdout",
     "output_type": "stream",
     "text": [
      "2000\n"
     ]
    }
   ],
   "source": [
    "# Write your code for Exercise 3 in this cell\n",
    "a = 20\n",
    "c = a * 100\n",
    "print(c)"
   ]
  },
  {
   "cell_type": "markdown",
   "metadata": {},
   "source": [
    "<details>\n",
    "<summary>Click here for Hint</summary>\n",
    "\n",
    "> Use the multiplication operator \\* for this exercise.\n",
    "\n",
    "</details>\n",
    "\n",
    "<br>\n",
    "\n",
    "<details>\n",
    "<summary>Click here for Solution</summary>\n",
    "\n",
    ">\n",
    "\n",
    "```Python\n",
    "a=20\n",
    "c=a*100\n",
    "print(c)\n",
    "```\n",
    "\n",
    "</details>\n"
   ]
  },
  {
   "cell_type": "markdown",
   "metadata": {},
   "source": [
    "***\n"
   ]
  },
  {
   "cell_type": "markdown",
   "metadata": {},
   "source": [
    "## Exercise 4: Declare and Print an Array Using a For-Loop<a id=\"Exercise4\"></a>\n"
   ]
  },
  {
   "cell_type": "markdown",
   "metadata": {},
   "source": [
    "Arrays are data structures or containers that can hold more than one value.\n",
    "\n",
    "In this exercise, you will practice how to declare a string array and print the array elements using a For-loop.\n",
    "\n",
    "## Task A: Review the source code\n",
    "\n",
    "The first line of the source code below declares a string array called **`mylist`** with the values: **John**, **Sam**, and **Adam**. <br> The second line shows the syntax of the for-loop, and **`x`** indicates the values in the array. <br> The third line uses the **`print()`** function within the for-loop to display the array elements. <br>Notice the indent in the code within the for-loop.  Without it, an indentation error will occur and prevent the code from being executed.\n",
    "\n",
    "#### Source Code #4\n",
    "\n",
    "```Python\n",
    "mylist= [\"John\", \"Sam\", \"Adam\"] \n",
    "for x in mylist: \n",
    "    print(x) \n",
    "```\n",
    "\n",
    "#### Output\n",
    "\n",
    "```\n",
    "John\n",
    "Sam\n",
    "Adam\n",
    "```\n",
    "\n",
    "## Task B: Write the code\n",
    "\n",
    "Step 1: Using source code #4 as an example, write the first line of code to declare an integer array variable called **myarray** and assign the values: **20**, **10**, **44**, **928**, **200**. No quotes should be used for values in an integer array. <br>Step 2: Write the second line of code with for-loop syntax. <br>Step 3: Write the third line of code to print the array elements.  Remember to indent this line of code to avoid an indentation error.\\\n",
    "\\- ***To create an indent:*** *Press the **Tab** key once OR the **Space Bar** four times on your keyboard.* <br>Step 4: Run your code to view the output.\n"
   ]
  },
  {
   "cell_type": "code",
   "execution_count": 4,
   "metadata": {},
   "outputs": [
    {
     "name": "stdout",
     "output_type": "stream",
     "text": [
      "20\n",
      "10\n",
      "44\n",
      "928\n",
      "200\n"
     ]
    }
   ],
   "source": [
    "# Write your code for Exercise 4 in this cell\n",
    "myarray= [20, 10, 44,928,200] \n",
    "for x in myarray: \n",
    "    print(x)"
   ]
  },
  {
   "cell_type": "markdown",
   "metadata": {},
   "source": [
    "<details>\n",
    "<summary>Click here for Hint</summary>\n",
    "\n",
    "> Use square brackets \\[ ] to declare your integer array.  No quotes should be used for values in an integer array.\n",
    "\n",
    "</details>\n",
    "\n",
    "<br>\n",
    "\n",
    "<details>\n",
    "<summary>Click here for Solution</summary>\n",
    "\n",
    ">\n",
    "\n",
    "```Python\n",
    "myarray=[20, 10, 44, 928, 200]\n",
    "for x in myarray:\n",
    "    print(x)\n",
    "```\n",
    "\n",
    "</details>\n"
   ]
  },
  {
   "cell_type": "markdown",
   "metadata": {},
   "source": [
    "***\n"
   ]
  },
  {
   "cell_type": "markdown",
   "metadata": {},
   "source": [
    "## Exercise 5: Execute Conditional Statements<a id=\"Exercise5\"></a>\n"
   ]
  },
  {
   "cell_type": "markdown",
   "metadata": {
    "tags": []
   },
   "source": [
    "If-Else conditional statements are used when decision making is required and code is executed only if certain conditions are met.\n",
    "\n",
    "In this exercise, you will practice how to evaluate a variable and criteria to execute code using an If statement.\n",
    "\n",
    "## Task A: Review the source code\n",
    "\n",
    "The first line in the source code below declares the variable **`score`** and assigns the value **88**. <br>The second line is the **`if`** conditional statement (**`score`** is greater than 90). <br>If the condition is true, the third line will execute to print \"Well done! That gets you an A+ grade\". <br>The fourth line is the **`else`** statement and will run only if the condition is false. <br>When the condition is false, the fifth line will execute to print \"Better luck next time!\".\\\n",
    "Notice again the indent in these lines of code within the conditional statements.  Without it, an indentation error will occur and prevent the code from being executed.\n",
    "\n",
    "#### Source Code #5\n",
    "\n",
    "```Python\n",
    "score=88\n",
    "if score>90:\n",
    "    print(\"Well done! That gets you an A+ grade\")\n",
    "else:\n",
    "    print(\"Better luck next time!\")\n",
    "```\n",
    "\n",
    "#### Output\n",
    "\n",
    "```\n",
    "Better luck next time!\n",
    "```\n",
    "\n",
    "## Task B: Write the code\n",
    "\n",
    "Step 1: Using the Source Code #5 as an example, write the first line of Python code to set a variable called **myval** to **8**. <br>Step 2: Write the second line to begin IF statement to test if **myval** is greater than 0. <br>Step 3: Write the third line of code to print \"It is a positive number\" when the condition is True. <br>Step 4: Write the fourth line to begin **`else`** conditional statement. <br>Step 5: Write the fifth line to print \"It is a negative number\" when the condition is False. <br>Step 6: Run your code to view the output.\n"
   ]
  },
  {
   "cell_type": "code",
   "execution_count": 5,
   "metadata": {},
   "outputs": [
    {
     "name": "stdout",
     "output_type": "stream",
     "text": [
      "It is a positive number\n"
     ]
    }
   ],
   "source": [
    "# Write your code for Exercise 5 in this cell\n",
    "myval=8\n",
    "if myval>0:\n",
    "    print(\"It is a positive number\")\n",
    "else:\n",
    "    print(\"It is a negative number\")"
   ]
  },
  {
   "cell_type": "markdown",
   "metadata": {},
   "source": [
    "<details>\n",
    "<summary>Click here for Hint</summary>\n",
    "\n",
    "> When using an IF statement, make sure to indent correctly.  Otherwise, you will see an error.\n",
    "\n",
    "</details>\n",
    "\n",
    "<br>\n",
    "\n",
    "<details>\n",
    "<summary>Click here for Solution</summary>\n",
    "\n",
    ">\n",
    "\n",
    "```Python\n",
    "myval=8\n",
    "if myval>0:\n",
    "        print(\"It is a positive number\")\n",
    "else:\n",
    "        print(\"It is is a negative number\")\n",
    "```\n",
    "\n",
    "</details>\n"
   ]
  },
  {
   "cell_type": "markdown",
   "metadata": {},
   "source": [
    "***\n"
   ]
  },
  {
   "cell_type": "markdown",
   "metadata": {},
   "source": [
    "### Congratulations!  You have completed the lab and you are ready for the next topic.\n"
   ]
  },
  {
   "cell_type": "markdown",
   "metadata": {
    "tags": []
   },
   "source": [
    "## Authors\n"
   ]
  },
  {
   "cell_type": "markdown",
   "metadata": {},
   "source": [
    "Roopa Raghavan\n"
   ]
  },
  {
   "cell_type": "markdown",
   "metadata": {},
   "source": [
    "### Other Contributors\n"
   ]
  },
  {
   "cell_type": "markdown",
   "metadata": {},
   "source": [
    "Contributor Name\n"
   ]
  },
  {
   "cell_type": "markdown",
   "metadata": {},
   "source": [
    "## Change Log\n"
   ]
  },
  {
   "cell_type": "markdown",
   "metadata": {},
   "source": [
    "| Date       | Version | Changed by | Change Description      |\n",
    "| ---------- | ------- | ---------- | ----------------------- |\n",
    "| 2022-02-17 | 1.0     |            | Initial version created |\n"
   ]
  },
  {
   "cell_type": "markdown",
   "metadata": {},
   "source": [
    "Copyright © 2022 IBM Corporation. All rights reserved.\n"
   ]
  }
 ],
 "metadata": {
  "kernelspec": {
   "display_name": "Python 3 (ipykernel)",
   "language": "python",
   "name": "python3"
  },
  "language_info": {
   "codemirror_mode": {
    "name": "ipython",
    "version": 3
   },
   "file_extension": ".py",
   "mimetype": "text/x-python",
   "name": "python",
   "nbconvert_exporter": "python",
   "pygments_lexer": "ipython3",
   "version": "3.9.12"
  }
 },
 "nbformat": 4,
 "nbformat_minor": 4
}
